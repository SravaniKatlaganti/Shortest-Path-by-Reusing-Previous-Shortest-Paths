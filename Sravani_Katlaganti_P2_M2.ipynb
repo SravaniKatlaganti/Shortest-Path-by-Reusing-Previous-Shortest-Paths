{
  "nbformat": 4,
  "nbformat_minor": 0,
  "metadata": {
    "colab": {
      "provenance": [],
      "collapsed_sections": []
    },
    "kernelspec": {
      "name": "python3",
      "display_name": "Python 3"
    },
    "language_info": {
      "name": "python"
    }
  },
  "cells": [
    {
      "cell_type": "code",
      "source": [
        "# necessary imports\n",
        "import networkx as nx\n",
        "import math\n",
        "import random\n",
        "\n",
        "global T0\n",
        "global G"
      ],
      "metadata": {
        "id": "q7o4C5TISVgj"
      },
      "execution_count": 1,
      "outputs": []
    },
    {
      "cell_type": "code",
      "source": [
        "# temparature function at iteration k\n",
        "def temperatureSchedule(k):\n",
        "  alpha = 0.01\n",
        "  Tk = (1-(alpha*k))*T0\n",
        "  return Tk"
      ],
      "metadata": {
        "id": "NnBQpsYIPx-1"
      },
      "execution_count": 2,
      "outputs": []
    },
    {
      "cell_type": "code",
      "source": [
        "# value function\n",
        "def valueFun(G):\n",
        "  inFlowD = 0\n",
        "  # total inflows into destination node\n",
        "  for (x,y) in G.edges():\n",
        "      if(y==4): # as destination node is 9\n",
        "        inFlowD += G.edges[x,y]['flow']\n",
        "  return(inFlowD)"
      ],
      "metadata": {
        "id": "MFNp5Hd0QVdg"
      },
      "execution_count": 3,
      "outputs": []
    },
    {
      "cell_type": "code",
      "source": [
        "# calculate nearest neighbor solution\n",
        "def nearestNeighbor(G):\n",
        "  newG = G.copy()\n",
        "  check = True\n",
        "  # select random path\n",
        "  path = next(nx.all_simple_paths(G, source=3, target=4))\n",
        "  # loop until no vioaltion occurs along P\n",
        "  while(check):\n",
        "    check = False\n",
        "    # change weights by +/-3000\n",
        "    positive = True\n",
        "    for i in range(len(path)-1):\n",
        "          eweights = G.edges[path[i],path[i+1]]['flow']+3000\n",
        "          # check for Capacity constraints\n",
        "          if(eweights>G.edges[path[i],path[i+1]]['capacity']):\n",
        "            positive = False\n",
        "            break\n",
        "          newG.edges[path[i],path[i+1]]['flow'] = eweights\n",
        "          \n",
        "    if(positive == False):\n",
        "      for i in range(len(path)-1):\n",
        "          eweights = G.edges[path[i],path[i+1]]['flow']-3000\n",
        "          newG.edges[path[i],path[i+1]]['flow'] = eweights\n",
        "    # check law of conservation for path P\n",
        "    for i in range(len(path)-2):\n",
        "      if(newG.edges[path[i],path[i+1]]['flow'] != newG.edges[path[i+1],path[i+2]]['flow']):\n",
        "         check = True\n",
        "  return newG"
      ],
      "metadata": {
        "id": "1Ydolm1NSlkU"
      },
      "execution_count": 5,
      "outputs": []
    },
    {
      "cell_type": "code",
      "source": [
        "# Function for simulated annealing\n",
        "def SimulatedAnnealing(G):\n",
        "  k=1\n",
        "  # repeat from k=1 to some N\n",
        "  while(k>0):\n",
        "    if(k==1):\n",
        "      T = T0\n",
        "    else:\n",
        "      T = temperatureSchedule(k)\n",
        "    # if T is 0 then return the solution\n",
        "    if(T==0):\n",
        "      return G\n",
        "    # if not, calculate G'(new Graph), nearest neighbor of G\n",
        "    new_G = nearestNeighbor(G)\n",
        "    delE = valueFun(new_G)-valueFun(G)\n",
        "    if(delE>0):\n",
        "      G = new_G\n",
        "    else:\n",
        "      # calculate probability\n",
        "      V = prob = math.exp(delE/T) \n",
        "      E = (int(math.log10(V)))-1 # exponent\n",
        "      M = V / 10**E # mantissa\n",
        "      # generate random number using M and E\n",
        "      rN = random.randint(1,pow(10,abs(E)))\n",
        "      # check if number is acceptable\n",
        "      if(rN>=1 and rN<=M):\n",
        "        G = new_G\n",
        "        # else discard new graph \n",
        "    #and continue to next iteration\n",
        "    k+=1\n",
        "  return G "
      ],
      "metadata": {
        "id": "PXgyqWWhVdb5"
      },
      "execution_count": 6,
      "outputs": []
    },
    {
      "cell_type": "code",
      "source": [
        "# check for law of conservation for each node\n",
        "def checkConservationLaw(newG):\n",
        "  for n in newG.nodes():\n",
        "    inFlow = 0\n",
        "    outFlow = 0\n",
        "    for (x,y) in newG.edges():\n",
        "      if(y==n):\n",
        "        inFlow += newG.edges[x,y]['flow']\n",
        "      elif(x==n):\n",
        "        outFlow += newG.edges[x,y]['flow']\n",
        "    if(inFlow==outFlow):\n",
        "      continue\n",
        "    else:\n",
        "      return False\n",
        "  return True"
      ],
      "metadata": {
        "id": "loJbauzpzY0D"
      },
      "execution_count": 4,
      "outputs": []
    },
    {
      "cell_type": "code",
      "source": [
        "def initialSol(G):\n",
        "   # repeat until law of conservation obeys\n",
        "    while(checkConservationLaw(G)==False):\n",
        "      for (u, v) in G.edges():\n",
        "        capacity = G.edges[u,v]['capacity']\n",
        "        flow = G.edges[u,v]['flow'] = random.randint(4000,10000)\n",
        "        # check if flow is less than/equal to capacity, if not reassign\n",
        "        while(flow>capacity):\n",
        "          flow = G.edges[u,v]['flow'] = random.randint(4000,10000)\n",
        "    return G"
      ],
      "metadata": {
        "id": "p_S2ytWMFMCc"
      },
      "execution_count": 7,
      "outputs": []
    },
    {
      "cell_type": "code",
      "source": [
        "#set initial temperature to 10k\n",
        "T0 = 10000\n",
        "\n",
        "# Generate random graph\n",
        "seed=1000  \n",
        "G= nx.gnp_random_graph (50, .3, seed=seed) # Graph with nodes 50 and connectivity 3\n",
        "\n",
        "# Check if graph is connected\n",
        "if(nx.is_connected(G)):\n",
        "    for (u, v) in G.edges():\n",
        "      # assign capacity to each edge\n",
        "      capacity = G.edges[u,v]['capacity'] = random.randint(6000,12000)\n",
        "      # assign flow to each edge\n",
        "      flow = G.edges[u,v]['flow'] = random.randint(4000,10000)\n",
        "      # check if flow is less than/equal to capacity, if not reassign\n",
        "      while(flow>capacity):\n",
        "        flow = G.edges[u,v]['flow'] = random.randint(4000,10000)\n",
        "     \n",
        "# calculate initial solution     \n",
        "G = initialSol(G)\n",
        "\n",
        "# Call simulated annealing function with the generated graph \n",
        "soln = SimulatedAnnealing(G)\n",
        "\n",
        "maxFlow = valueFun(soln)\n",
        "print(maxFlow)"
      ],
      "metadata": {
        "colab": {
          "base_uri": "https://localhost:8080/",
          "height": 393
        },
        "id": "--1TIA-JLCQb",
        "outputId": "f5fe14df-87f1-4130-f04b-35a15927c6fd"
      },
      "execution_count": 8,
      "outputs": [
        {
          "output_type": "error",
          "ename": "KeyboardInterrupt",
          "evalue": "ignored",
          "traceback": [
            "\u001b[0;31m---------------------------------------------------------------------------\u001b[0m",
            "\u001b[0;31mKeyboardInterrupt\u001b[0m                         Traceback (most recent call last)",
            "\u001b[0;32m<ipython-input-8-2ff5388df49c>\u001b[0m in \u001b[0;36m<module>\u001b[0;34m\u001b[0m\n\u001b[1;32m     18\u001b[0m \u001b[0;34m\u001b[0m\u001b[0m\n\u001b[1;32m     19\u001b[0m \u001b[0;31m# calculate initial solution\u001b[0m\u001b[0;34m\u001b[0m\u001b[0;34m\u001b[0m\u001b[0;34m\u001b[0m\u001b[0m\n\u001b[0;32m---> 20\u001b[0;31m \u001b[0mG\u001b[0m \u001b[0;34m=\u001b[0m \u001b[0minitialSol\u001b[0m\u001b[0;34m(\u001b[0m\u001b[0mG\u001b[0m\u001b[0;34m)\u001b[0m\u001b[0;34m\u001b[0m\u001b[0;34m\u001b[0m\u001b[0m\n\u001b[0m\u001b[1;32m     21\u001b[0m \u001b[0;34m\u001b[0m\u001b[0m\n\u001b[1;32m     22\u001b[0m \u001b[0;31m# Call simulated annealing function with the generated graph\u001b[0m\u001b[0;34m\u001b[0m\u001b[0;34m\u001b[0m\u001b[0;34m\u001b[0m\u001b[0m\n",
            "\u001b[0;32m<ipython-input-7-7df31852f763>\u001b[0m in \u001b[0;36minitialSol\u001b[0;34m(G)\u001b[0m\n\u001b[1;32m      4\u001b[0m       \u001b[0;32mfor\u001b[0m \u001b[0;34m(\u001b[0m\u001b[0mu\u001b[0m\u001b[0;34m,\u001b[0m \u001b[0mv\u001b[0m\u001b[0;34m)\u001b[0m \u001b[0;32min\u001b[0m \u001b[0mG\u001b[0m\u001b[0;34m.\u001b[0m\u001b[0medges\u001b[0m\u001b[0;34m(\u001b[0m\u001b[0;34m)\u001b[0m\u001b[0;34m:\u001b[0m\u001b[0;34m\u001b[0m\u001b[0;34m\u001b[0m\u001b[0m\n\u001b[1;32m      5\u001b[0m         \u001b[0mcapacity\u001b[0m \u001b[0;34m=\u001b[0m \u001b[0mG\u001b[0m\u001b[0;34m.\u001b[0m\u001b[0medges\u001b[0m\u001b[0;34m[\u001b[0m\u001b[0mu\u001b[0m\u001b[0;34m,\u001b[0m\u001b[0mv\u001b[0m\u001b[0;34m]\u001b[0m\u001b[0;34m[\u001b[0m\u001b[0;34m'capacity'\u001b[0m\u001b[0;34m]\u001b[0m\u001b[0;34m\u001b[0m\u001b[0;34m\u001b[0m\u001b[0m\n\u001b[0;32m----> 6\u001b[0;31m         \u001b[0mflow\u001b[0m \u001b[0;34m=\u001b[0m \u001b[0mG\u001b[0m\u001b[0;34m.\u001b[0m\u001b[0medges\u001b[0m\u001b[0;34m[\u001b[0m\u001b[0mu\u001b[0m\u001b[0;34m,\u001b[0m\u001b[0mv\u001b[0m\u001b[0;34m]\u001b[0m\u001b[0;34m[\u001b[0m\u001b[0;34m'flow'\u001b[0m\u001b[0;34m]\u001b[0m \u001b[0;34m=\u001b[0m \u001b[0mrandom\u001b[0m\u001b[0;34m.\u001b[0m\u001b[0mrandint\u001b[0m\u001b[0;34m(\u001b[0m\u001b[0;36m4000\u001b[0m\u001b[0;34m,\u001b[0m\u001b[0;36m10000\u001b[0m\u001b[0;34m)\u001b[0m\u001b[0;34m\u001b[0m\u001b[0;34m\u001b[0m\u001b[0m\n\u001b[0m\u001b[1;32m      7\u001b[0m         \u001b[0;31m# check if flow is less than/equal to capacity, if not reassign\u001b[0m\u001b[0;34m\u001b[0m\u001b[0;34m\u001b[0m\u001b[0;34m\u001b[0m\u001b[0m\n\u001b[1;32m      8\u001b[0m         \u001b[0;32mwhile\u001b[0m\u001b[0;34m(\u001b[0m\u001b[0mflow\u001b[0m\u001b[0;34m>\u001b[0m\u001b[0mcapacity\u001b[0m\u001b[0;34m)\u001b[0m\u001b[0;34m:\u001b[0m\u001b[0;34m\u001b[0m\u001b[0;34m\u001b[0m\u001b[0m\n",
            "\u001b[0;32m/usr/local/lib/python3.7/dist-packages/networkx/classes/graph.py\u001b[0m in \u001b[0;36medges\u001b[0;34m(self)\u001b[0m\n\u001b[1;32m   1310\u001b[0m         \u001b[0mEdgeDataView\u001b[0m\u001b[0;34m(\u001b[0m\u001b[0;34m[\u001b[0m\u001b[0;34m(\u001b[0m\u001b[0;36m0\u001b[0m\u001b[0;34m,\u001b[0m \u001b[0;36m1\u001b[0m\u001b[0;34m)\u001b[0m\u001b[0;34m]\u001b[0m\u001b[0;34m)\u001b[0m\u001b[0;34m\u001b[0m\u001b[0;34m\u001b[0m\u001b[0m\n\u001b[1;32m   1311\u001b[0m         \"\"\"\n\u001b[0;32m-> 1312\u001b[0;31m         \u001b[0;32mreturn\u001b[0m \u001b[0mEdgeView\u001b[0m\u001b[0;34m(\u001b[0m\u001b[0mself\u001b[0m\u001b[0;34m)\u001b[0m\u001b[0;34m\u001b[0m\u001b[0;34m\u001b[0m\u001b[0m\n\u001b[0m\u001b[1;32m   1313\u001b[0m \u001b[0;34m\u001b[0m\u001b[0m\n\u001b[1;32m   1314\u001b[0m     \u001b[0;32mdef\u001b[0m \u001b[0mget_edge_data\u001b[0m\u001b[0;34m(\u001b[0m\u001b[0mself\u001b[0m\u001b[0;34m,\u001b[0m \u001b[0mu\u001b[0m\u001b[0;34m,\u001b[0m \u001b[0mv\u001b[0m\u001b[0;34m,\u001b[0m \u001b[0mdefault\u001b[0m\u001b[0;34m=\u001b[0m\u001b[0;32mNone\u001b[0m\u001b[0;34m)\u001b[0m\u001b[0;34m:\u001b[0m\u001b[0;34m\u001b[0m\u001b[0;34m\u001b[0m\u001b[0m\n",
            "\u001b[0;32m/usr/local/lib/python3.7/dist-packages/networkx/classes/reportviews.py\u001b[0m in \u001b[0;36m__init__\u001b[0;34m(self, G)\u001b[0m\n\u001b[1;32m   1002\u001b[0m \u001b[0;34m\u001b[0m\u001b[0m\n\u001b[1;32m   1003\u001b[0m     \u001b[0;32mdef\u001b[0m \u001b[0m__init__\u001b[0m\u001b[0;34m(\u001b[0m\u001b[0mself\u001b[0m\u001b[0;34m,\u001b[0m \u001b[0mG\u001b[0m\u001b[0;34m)\u001b[0m\u001b[0;34m:\u001b[0m\u001b[0;34m\u001b[0m\u001b[0;34m\u001b[0m\u001b[0m\n\u001b[0;32m-> 1004\u001b[0;31m         \u001b[0mself\u001b[0m\u001b[0;34m.\u001b[0m\u001b[0m_graph\u001b[0m \u001b[0;34m=\u001b[0m \u001b[0mG\u001b[0m\u001b[0;34m\u001b[0m\u001b[0;34m\u001b[0m\u001b[0m\n\u001b[0m\u001b[1;32m   1005\u001b[0m         \u001b[0mself\u001b[0m\u001b[0;34m.\u001b[0m\u001b[0m_adjdict\u001b[0m \u001b[0;34m=\u001b[0m \u001b[0mG\u001b[0m\u001b[0;34m.\u001b[0m\u001b[0m_succ\u001b[0m \u001b[0;32mif\u001b[0m \u001b[0mhasattr\u001b[0m\u001b[0;34m(\u001b[0m\u001b[0mG\u001b[0m\u001b[0;34m,\u001b[0m \u001b[0;34m\"succ\"\u001b[0m\u001b[0;34m)\u001b[0m \u001b[0;32melse\u001b[0m \u001b[0mG\u001b[0m\u001b[0;34m.\u001b[0m\u001b[0m_adj\u001b[0m\u001b[0;34m\u001b[0m\u001b[0;34m\u001b[0m\u001b[0m\n\u001b[1;32m   1006\u001b[0m         \u001b[0mself\u001b[0m\u001b[0;34m.\u001b[0m\u001b[0m_nodes_nbrs\u001b[0m \u001b[0;34m=\u001b[0m \u001b[0mself\u001b[0m\u001b[0;34m.\u001b[0m\u001b[0m_adjdict\u001b[0m\u001b[0;34m.\u001b[0m\u001b[0mitems\u001b[0m\u001b[0;34m\u001b[0m\u001b[0;34m\u001b[0m\u001b[0m\n",
            "\u001b[0;31mKeyboardInterrupt\u001b[0m: "
          ]
        }
      ]
    },
    {
      "cell_type": "code",
      "source": [
        "# max flow value using Edmonds Karp algorithm from Networkx\n",
        "from networkx.algorithms.flow import edmonds_karp\n",
        "R = edmonds_karp(G, 3, 4)\n",
        "flow_value = nx.maximum_flow_value(G, 3, 4)\n",
        "print(flow_value)"
      ],
      "metadata": {
        "colab": {
          "base_uri": "https://localhost:8080/"
        },
        "id": "o9kBLIbbtojE",
        "outputId": "5ed5c6ec-6b8c-45cd-a8e4-20131d0fbd67"
      },
      "execution_count": 10,
      "outputs": [
        {
          "output_type": "stream",
          "name": "stdout",
          "text": [
            "132350\n"
          ]
        }
      ]
    },
    {
      "cell_type": "code",
      "source": [],
      "metadata": {
        "colab": {
          "base_uri": "https://localhost:8080/"
        },
        "id": "7sf0gAXfXtqt",
        "outputId": "02bc0948-8d2f-4c9b-f492-acdc458287e0"
      },
      "execution_count": 12,
      "outputs": [
        {
          "output_type": "execute_result",
          "data": {
            "text/plain": [
              "4030"
            ]
          },
          "metadata": {},
          "execution_count": 12
        }
      ]
    }
  ]
}